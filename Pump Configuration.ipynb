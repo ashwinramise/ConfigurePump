{
 "cells": [
  {
   "cell_type": "code",
   "execution_count": 4,
   "id": "2393c97c",
   "metadata": {},
   "outputs": [],
   "source": [
    "from datetime import datetime as t\n",
    "import paho.mqtt.client as mqtt\n",
    "import json\n",
    "import mqtt_config as config"
   ]
  },
  {
   "cell_type": "code",
   "execution_count": 2,
   "id": "2a7a6535",
   "metadata": {},
   "outputs": [
    {
     "data": {
      "text/plain": [
       "0"
      ]
     },
     "execution_count": 2,
     "metadata": {},
     "output_type": "execute_result"
    }
   ],
   "source": [
    "client = mqtt.Client('config')\n",
    "listen = config.domain + 'rawdata/' + config.Location + '/' + config.pumpName\n",
    "broker = config.mqtt_broker\n",
    "publish = config.domain + 'edits/' + config.Location + '/' + config.pumpName\n",
    "client.connect(broker, keepalive=60)"
   ]
  },
  {
   "cell_type": "code",
   "execution_count": 15,
   "id": "c5801272",
   "metadata": {},
   "outputs": [],
   "source": [
    "def on_connect(client, userdata, flags, rc):\n",
    "    if rc == 0:\n",
    "        print(\"Connected to MQTT Broker!\")\n",
    "        print(f\"Listening on topic: {listen}\")\n",
    "    else:\n",
    "        print(f\"Failed to connect, return code {rc}\", \"Error\\t\")\n",
    "\n",
    "def on_disconnect(client, userdata, rc):\n",
    "    print(f\"Unexpected disconnection due to {rc}\")\n",
    "    while True:\n",
    "        conn = client.connect(broker, keepalive=60)\n",
    "        print(\"Reconnecting...\")\n",
    "        if conn:\n",
    "            break\n",
    "        else:\n",
    "            continue\n",
    "        time.sleep(5)\n",
    "\n",
    "def on_message(client, userdata, msg):\n",
    "    x = msg.payload\n",
    "    command = json.loads(x)\n",
    "    print(f\"Recieved write command {command}\")"
   ]
  },
  {
   "cell_type": "markdown",
   "id": "339569d8",
   "metadata": {},
   "source": [
    "Change Values"
   ]
  },
  {
   "cell_type": "code",
   "execution_count": 21,
   "id": "86e00755",
   "metadata": {},
   "outputs": [
    {
     "name": "stdout",
     "output_type": "stream",
     "text": [
      "published {\"register\": [2, 1], \"bit\": [0, 1]} to buckman/ackumen/smartAssets/edits/Chennai/Ch_dda003 at 2022-10-02 21:29:57.492276\n",
      "Connected to MQTT Broker!\n",
      "Listening on topic: buckman/ackumen/smartAssets/rawdata/Chennai/Ch_dda003\n",
      "Recieved write command {'register': [2, 1], 'bit': [0, 1]}\n"
     ]
    }
   ],
   "source": [
    "write_message = json.dumps({\n",
    "    'register': [2, 0x01],\n",
    "    'bit': [0, 0x01]\n",
    "})\n",
    "try:\n",
    "    client.connect(broker, keepalive=60)\n",
    "    client.publish(publish, write_message, qos=1)\n",
    "    print(f\"published {write_message} to {publish} at {t.now()}\")\n",
    "except Exception as e:\n",
    "    print(e)\n",
    "try:\n",
    "    client.loop_start()\n",
    "    client.on_connect = on_connect\n",
    "    client.on_message = on_message\n",
    "    client.on_disconnect = on_disconnect\n",
    "    client.subscribe(publish)\n",
    "    client.loop_stop()\n",
    "except Exception as r:\n",
    "    print(f'There was an issue sending data because {r}.. Reconnecting')\n",
    "    connection = client.connect(broker)"
   ]
  },
  {
   "cell_type": "markdown",
   "id": "33a82f83",
   "metadata": {},
   "source": [
    "Read registers to check changes"
   ]
  },
  {
   "cell_type": "code",
   "execution_count": 22,
   "id": "0a185303",
   "metadata": {},
   "outputs": [
    {
     "name": "stdout",
     "output_type": "stream",
     "text": [
      "published {\"register\": [1, 2, 100, 101, 102, 103, 104, 105, 106, 107, 200, 201, 202, 203, 204, 205, 206, 207]} to buckman/ackumen/smartAssets/edits/Chennai/Ch_dda003 at 2022-10-02 21:31:47.153308\n",
      "Connected to MQTT Broker!\n",
      "Listening on topic: buckman/ackumen/smartAssets/rawdata/Chennai/Ch_dda003\n"
     ]
    }
   ],
   "source": [
    "write_message = json.dumps({\n",
    "    'register': [1,2,100,101,102,103,104,105,106,107,200,201,202,203,204,205,206,207],\n",
    "})\n",
    "try:\n",
    "    client.connect(broker, keepalive=60)\n",
    "    client.publish(publish, write_message, qos=1)\n",
    "    print(f\"published {write_message} to {publish} at {t.now()}\")\n",
    "except Exception as e:\n",
    "    print(e)\n",
    "try:\n",
    "    client.loop_start()\n",
    "    client.on_connect = on_connect\n",
    "    client.on_message = on_message\n",
    "    client.on_disconnect = on_disconnect\n",
    "    client.subscribe(listen)\n",
    "    client.loop_stop()\n",
    "except Exception as r:\n",
    "    print(f'There was an issue sending data because {r}.. Reconnecting')\n",
    "    connection = client.connect(broker)"
   ]
  },
  {
   "cell_type": "code",
   "execution_count": null,
   "id": "f268dbc3",
   "metadata": {},
   "outputs": [],
   "source": []
  }
 ],
 "metadata": {
  "kernelspec": {
   "display_name": "Python 3 (ipykernel)",
   "language": "python",
   "name": "python3"
  },
  "language_info": {
   "codemirror_mode": {
    "name": "ipython",
    "version": 3
   },
   "file_extension": ".py",
   "mimetype": "text/x-python",
   "name": "python",
   "nbconvert_exporter": "python",
   "pygments_lexer": "ipython3",
   "version": "3.10.6"
  }
 },
 "nbformat": 4,
 "nbformat_minor": 5
}
